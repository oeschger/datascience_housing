{
 "cells": [
  {
   "cell_type": "markdown",
   "metadata": {},
   "source": [
    "# Housing price example\n",
    "\n",
    "This is a simple exercise to get data into dataframes so I can learn how to investigate, interpret.\n",
    "The sample attempts to show how to correlate to different attributes of a set of data, namely the size of a house and its sale price.\n"
   ]
  },
  {
   "cell_type": "code",
   "execution_count": 27,
   "metadata": {},
   "outputs": [
    {
     "data": {
      "text/html": [
       "<div>\n",
       "<style>\n",
       "    .dataframe thead tr:only-child th {\n",
       "        text-align: right;\n",
       "    }\n",
       "\n",
       "    .dataframe thead th {\n",
       "        text-align: left;\n",
       "    }\n",
       "\n",
       "    .dataframe tbody tr th {\n",
       "        vertical-align: top;\n",
       "    }\n",
       "</style>\n",
       "<table border=\"1\" class=\"dataframe\">\n",
       "  <thead>\n",
       "    <tr style=\"text-align: right;\">\n",
       "      <th></th>\n",
       "      <th>Sq Ft.</th>\n",
       "      <th>Sale Price</th>\n",
       "      <th>Yr Blt.</th>\n",
       "    </tr>\n",
       "  </thead>\n",
       "  <tbody>\n",
       "    <tr>\n",
       "      <th>0</th>\n",
       "      <td>800</td>\n",
       "      <td>200000</td>\n",
       "      <td>2015</td>\n",
       "    </tr>\n",
       "    <tr>\n",
       "      <th>1</th>\n",
       "      <td>1000</td>\n",
       "      <td>250000</td>\n",
       "      <td>2010</td>\n",
       "    </tr>\n",
       "    <tr>\n",
       "      <th>2</th>\n",
       "      <td>900</td>\n",
       "      <td>300000</td>\n",
       "      <td>2011</td>\n",
       "    </tr>\n",
       "    <tr>\n",
       "      <th>3</th>\n",
       "      <td>1000</td>\n",
       "      <td>175000</td>\n",
       "      <td>1999</td>\n",
       "    </tr>\n",
       "    <tr>\n",
       "      <th>4</th>\n",
       "      <td>2000</td>\n",
       "      <td>400000</td>\n",
       "      <td>2005</td>\n",
       "    </tr>\n",
       "  </tbody>\n",
       "</table>\n",
       "</div>"
      ],
      "text/plain": [
       "   Sq Ft.  Sale Price  Yr Blt.\n",
       "0     800      200000     2015\n",
       "1    1000      250000     2010\n",
       "2     900      300000     2011\n",
       "3    1000      175000     1999\n",
       "4    2000      400000     2005"
      ]
     },
     "execution_count": 27,
     "metadata": {},
     "output_type": "execute_result"
    }
   ],
   "source": [
    "import pandas as pd\n",
    "%matplotlib inline \n",
    "df = pd.DataFrame([[800,  200000,2015], \n",
    "                   [1000, 250000,2010],\n",
    "                   [900,  300000,2011],\n",
    "                   [1000, 175000,1999],\n",
    "                   [2000, 400000,2005],\n",
    "                   [2200, 410000,2005],\n",
    "                   [5000, 595000,1985],\n",
    "                   [3000, 200000,1980],\n",
    "                   [1200, 210000,2017]],\n",
    "                  columns=['Sq Ft.', 'Sale Price', 'Yr Blt.'])\n",
    "\n",
    "# Standard deviation is the square of the variance\n",
    "# print \"Standard deviation on price\", df['Sale Price'].std()\n",
    "df.head()"
   ]
  },
  {
   "cell_type": "markdown",
   "metadata": {},
   "source": [
    "OK, now we have some data, as you can see from the summary output above:\n",
    "A data frame of some housing sizes, prices, and ages. \n",
    "But this data is not set up in a way that makes it good for analysis.\n",
    "The number 900, for example, is not in the same order as 300000. How do we make these numbers relate to one another?\n",
    "\n",
    "We express them as deviations from the mean, as in the next section.\n",
    "We do some calculations of the data and add the results to the data frame, grow it so that it has more easily analyzable data. "
   ]
  },
  {
   "cell_type": "code",
   "execution_count": 76,
   "metadata": {},
   "outputs": [
    {
     "name": "stdout",
     "output_type": "stream",
     "text": [
      "Mean price: 304444\n",
      "Mean age: 15.0\n",
      "Mean size: 1900.0\n",
      "\n",
      "small house mean sale price 231250.0\n",
      "big house mean sale price 363000.0\n"
     ]
    }
   ],
   "source": [
    "mean_price = int(df['Sale Price'].mean())\n",
    "print \"Mean price:\", mean_price\n",
    "\n",
    "df['Age']  = 2018 - df['Yr Blt.'] \n",
    "mean_age = df['Age'].mean()\n",
    "print \"Mean age:\", mean_age\n",
    "\n",
    "mean_size  = df['Sq Ft.'].mean()\n",
    "print \"Mean size:\", mean_size\n",
    "print\n",
    "\n",
    "# not sure this is the right name / label\n",
    "df['% Sale'] = (df['Sale Price'] - mean_price ) / mean_price * 100.\n",
    "df['% Size'] = (df['Sq Ft.']     - mean_size )  / mean_size * 100.\n",
    "df['% Age']  = (df['Age'] - mean_age ) / mean_age * 100.\n",
    "\n",
    "small_d, big_d = df[df['Sq Ft.'] < 1100], df[df['Sq Ft.'] > 1100]\n",
    "print \"small house mean sale price\", small_d['Sale Price'].mean()\n",
    "print \"big house mean sale price\", big_d['Sale Price'].mean()\n",
    "dd = df[['% Age','% Sale','% Size']]\n",
    "# print dd['% Age']"
   ]
  },
  {
   "cell_type": "markdown",
   "metadata": {},
   "source": [
    "In the table above the, we have only the data we want. We've cleared away the other stuff so that we can stare at this and figure out how to take action, where the distribution is, where the correlations are especially\n",
    "\n",
    "## Exercise goals\n",
    "\n",
    "So one next step might be to figure out how much the size of the house effects the sale price.\n",
    "We might take up these three things actually:\n",
    "\n",
    " - Question: Does the size of the house effect the sale price?\n",
    "   - You'd want to do something here like: For every foot or some _unit_ of size, you get a certain amount of dollars it matters \n",
    " - Plot the sizes and the sale prices on a single plot (visualize)\n",
    " - Question: Which matters more?: The size of the house or the year it was built?\n",
    " \n",
    "Could maybe send this to Stack Overflow as a question. But this is the kind of thing that's answered in discussions about statistics and dependent and idependent variables, which is where I might start. Regressions, etc.\n",
    "\n",
    "So this is a **non-simple linear regression** in which we need to explore **dependent and independent variables**\n",
    "\n",
    "See *Think Stats* Chapter 10, *Linear least square fit*, for a way into this and simple linear regressions. \n",
    "\n",
    "## Simple linear regression and least squares fit\n",
    "\n",
    "xx\n",
    "\n",
    "\n",
    "## Plotting (not histograms)\n",
    "\n",
    "This may not be the deepest way to look at stuff, but in this section we're just comparing the curves.\n",
    "The problem with this is that the blue line is in general not moving much, so we need to normalize it? Or this is where the variance is the more important thing to plot here? Confused. "
   ]
  },
  {
   "cell_type": "code",
   "execution_count": 75,
   "metadata": {},
   "outputs": [
    {
     "data": {
      "image/png": "[encoded data removed]",
      "text/plain": [
       "<matplotlib.figure.Figure at 0x117ebdad0>"
      ]
     },
     "metadata": {},
     "output_type": "display_data"
    }
   ],
   "source": [
    "import matplotlib.pyplot as plt\n",
    "plt.plot(dd['% Age'])  # blue\n",
    "plt.plot(dd['% Sale']) # orange\n",
    "plt.plot(dd['% Size']) # green/\n",
    "\n",
    "plt.ylabel('age & size against sale price')\n",
    "plt.show()\n"
   ]
  },
  {
   "cell_type": "markdown",
   "metadata": {},
   "source": [
    "Here's an example from a [Python statistics tutorial](http://benalexkeen.com/basic-statistics-in-python/) that looks good too. This is a histogram of an array of random numbers between 1 and 10, which you can see ends up clustering frequency around the middle (but why?)"
   ]
  },
  {
   "cell_type": "code",
   "execution_count": 58,
   "metadata": {},
   "outputs": [
    {
     "name": "stdout",
     "output_type": "stream",
     "text": [
      "[ 8.  4.  4.  3.  7.  0.  8.  3.  6.  5.  8.  1.  4.  4.  7.  3.  5.  3.\n",
      "  5.  6.  3.  7.  7.  6.  7.  4.  5.  3.  4.  6.  4.  4.  4.  3.  4.  5.\n",
      "  3.  5.  8.  6.  5.  3.  4.  8.  5.  4.  5.  9.  5.  6.  6.  4.  3.  4.\n",
      "  5.  6.  7.  7.  6.  7.  3.  8.  6.  4.  6.  5.  7.  8.  9.  2.  2.  4.\n",
      "  5.  7.  6.  1.  4.  7.  5.  7.  5.  5.  5.  6.  5.  5.  4.  6.  5.  7.\n",
      "  7.  5.  4.  4.  6.  5.  4.  5.  4.  6.]\n"
     ]
    },
    {
     "data": {
      "image/png": "[encoded data removed]",
      "text/plain": [
       "<matplotlib.figure.Figure at 0x117ded150>"
      ]
     },
     "metadata": {},
     "output_type": "display_data"
    }
   ],
   "source": [
    "import numpy as np\n",
    "from scipy import stats\n",
    "\n",
    "import matplotlib\n",
    "import matplotlib.pyplot as plt\n",
    "%matplotlib inline\n",
    "matplotlib.style.use('ggplot')\n",
    "\n",
    "np.random.seed(1)\n",
    "data = np.round(np.random.normal(5, 2, 100))\n",
    "print data\n",
    "plt.hist(data, bins=10, range=(0,10), edgecolor='black')\n",
    "plt.show()"
   ]
  }
 ],
 "metadata": {
  "kernelspec": {
   "display_name": "Python 2",
   "language": "python",
   "name": "python2"
  },
  "language_info": {
   "codemirror_mode": {
    "name": "ipython",
    "version": 2
   },
   "file_extension": ".py",
   "mimetype": "text/x-python",
   "name": "python",
   "nbconvert_exporter": "python",
   "pygments_lexer": "ipython2",
   "version": "2.7.14"
  }
 },
 "nbformat": 4,
 "nbformat_minor": 2
}
